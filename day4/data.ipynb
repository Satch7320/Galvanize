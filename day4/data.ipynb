import numpy as np
import pandas as pd
import matplotlib.pyplot as plst

point_set = [(1,0),(1,1),(0,1),(-1,1),(-1,0),(-1,-1),(0,-1),(1,-1)]

